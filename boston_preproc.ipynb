{
 "cells": [
  {
   "cell_type": "code",
   "execution_count": 1,
   "id": "3ea475aa-c40d-47b7-b651-73f011bc7109",
   "metadata": {},
   "outputs": [],
   "source": [
    "import pandas as pd"
   ]
  },
  {
   "cell_type": "code",
   "execution_count": 2,
   "id": "a91d1aba-d10f-47b6-bd2a-9e08ecc765f1",
   "metadata": {},
   "outputs": [],
   "source": [
    "data = pd.read_csv(\"Desktop/info 4310/info4310hw3/yelp_boston.csv\")"
   ]
  },
  {
   "cell_type": "code",
   "execution_count": 5,
   "id": "0e99c09f-601e-42b2-ae5f-aeb5ee0714af",
   "metadata": {},
   "outputs": [
    {
     "data": {
      "text/plain": [
       "array(['[[\"Breakfast & Brunch\", \"breakfast_brunch\"], [\"Burgers\", \"burgers\"], [\"Sandwiches\", \"sandwiches\"]]',\n",
       "       '[[\"Mexican\", \"mexican\"]]', '[[\"Japanese\", \"japanese\"]]',\n",
       "       '[[\"Italian\", \"italian\"], [\"Pizza\", \"pizza\"]]',\n",
       "       '[[\"Seafood\", \"seafood\"], [\"Live/Raw Food\", \"raw_food\"]]',\n",
       "       '[[\"American (New)\", \"newamerican\"]]',\n",
       "       '[[\"Mediterranean\", \"mediterranean\"], [\"Vegan\", \"vegan\"], [\"Gluten-Free\", \"gluten_free\"]]',\n",
       "       '[[\"Spanish\", \"spanish\"], [\"Wine Bars\", \"wine_bars\"], [\"Tapas/Small Plates\", \"tapasmallplates\"]]',\n",
       "       '[[\"Pizza\", \"pizza\"], [\"Salad\", \"salad\"], [\"Sandwiches\", \"sandwiches\"]]',\n",
       "       '[[\"Sandwiches\", \"sandwiches\"], [\"Breakfast & Brunch\", \"breakfast_brunch\"]]',\n",
       "       '[[\"Italian\", \"italian\"]]',\n",
       "       '[[\"American (New)\", \"newamerican\"], [\"Seafood\", \"seafood\"]]',\n",
       "       '[[\"Juice Bars & Smoothies\", \"juicebars\"], [\"Vegetarian\", \"vegetarian\"]]',\n",
       "       '[[\"Indian\", \"indpak\"]]',\n",
       "       '[[\"Belgian\", \"belgian\"], [\"Sandwiches\", \"sandwiches\"]]',\n",
       "       '[[\"American (Traditional)\", \"tradamerican\"], [\"Pubs\", \"pubs\"]]',\n",
       "       '[[\"Italian\", \"italian\"], [\"Seafood\", \"seafood\"]]',\n",
       "       '[[\"Korean\", \"korean\"], [\"Asian Fusion\", \"asianfusion\"]]',\n",
       "       '[[\"American (New)\", \"newamerican\"], [\"Lounges\", \"lounges\"]]',\n",
       "       '[[\"Coffee & Tea\", \"coffee\"]]',\n",
       "       '[[\"Coffee & Tea\", \"coffee\"], [\"Cafes\", \"cafes\"]]',\n",
       "       '[[\"Cafes\", \"cafes\"], [\"Coffee & Tea\", \"coffee\"]]',\n",
       "       '[[\"Breakfast & Brunch\", \"breakfast_brunch\"], [\"Coffee & Tea\", \"coffee\"]]',\n",
       "       '[[\"Coffee & Tea\", \"coffee\"], [\"Delis\", \"delis\"], [\"Sandwiches\", \"sandwiches\"]]',\n",
       "       '[[\"Grocery\", \"grocery\"], [\"Sandwiches\", \"sandwiches\"], [\"Coffee & Tea\", \"coffee\"]]',\n",
       "       '[[\"Bakeries\", \"bakeries\"], [\"Coffee & Tea\", \"coffee\"], [\"Sandwiches\", \"sandwiches\"]]',\n",
       "       '[[\"American (New)\", \"newamerican\"], [\"Burgers\", \"burgers\"], [\"Gastropubs\", \"gastropubs\"]]',\n",
       "       '[[\"American (New)\", \"newamerican\"], [\"Bars\", \"bars\"]]',\n",
       "       '[[\"Bars\", \"bars\"], [\"American (New)\", \"newamerican\"]]',\n",
       "       '[[\"American (New)\", \"newamerican\"], [\"Lounges\", \"lounges\"], [\"Breakfast & Brunch\", \"breakfast_brunch\"]]',\n",
       "       '[[\"Lounges\", \"lounges\"], [\"American (New)\", \"newamerican\"]]',\n",
       "       '[[\"American (New)\", \"newamerican\"], [\"Pubs\", \"pubs\"]]',\n",
       "       '[[\"Cocktail Bars\", \"cocktailbars\"], [\"American (New)\", \"newamerican\"]]',\n",
       "       '[[\"American (New)\", \"newamerican\"], [\"Italian\", \"italian\"], [\"Pizza\", \"pizza\"]]',\n",
       "       '[[\"American (New)\", \"newamerican\"], [\"Cocktail Bars\", \"cocktailbars\"]]',\n",
       "       '[[\"American (New)\", \"newamerican\"], [\"Burgers\", \"burgers\"]]',\n",
       "       '[[\"American (New)\", \"newamerican\"], [\"American (Traditional)\", \"tradamerican\"]]',\n",
       "       '[[\"Bakeries\", \"bakeries\"], [\"Desserts\", \"desserts\"], [\"French\", \"french\"]]',\n",
       "       '[[\"French\", \"french\"], [\"Italian\", \"italian\"]]',\n",
       "       '[[\"American (New)\", \"newamerican\"], [\"French\", \"french\"]]',\n",
       "       '[[\"French\", \"french\"], [\"Seafood\", \"seafood\"], [\"Steakhouses\", \"steak\"]]',\n",
       "       '[[\"French\", \"french\"]]',\n",
       "       '[[\"French\", \"french\"], [\"Bars\", \"bars\"]]',\n",
       "       '[[\"Desserts\", \"desserts\"], [\"Cheese Shops\", \"cheese\"], [\"French\", \"french\"]]',\n",
       "       '[[\"French\", \"french\"], [\"American (New)\", \"newamerican\"], [\"Breakfast & Brunch\", \"breakfast_brunch\"]]',\n",
       "       '[[\"Bars\", \"bars\"], [\"American (New)\", \"newamerican\"], [\"French\", \"french\"]]',\n",
       "       '[[\"French\", \"french\"], [\"American (New)\", \"newamerican\"]]',\n",
       "       '[[\"American (New)\", \"newamerican\"], [\"Seafood\", \"seafood\"], [\"French\", \"french\"]]',\n",
       "       '[[\"French\", \"french\"], [\"Breakfast & Brunch\", \"breakfast_brunch\"]]',\n",
       "       '[[\"Delis\", \"delis\"], [\"Pizza\", \"pizza\"], [\"Sandwiches\", \"sandwiches\"]]',\n",
       "       '[[\"Cafes\", \"cafes\"], [\"Wine Bars\", \"wine_bars\"], [\"Sandwiches\", \"sandwiches\"]]',\n",
       "       '[[\"Sandwiches\", \"sandwiches\"], [\"Korean\", \"korean\"], [\"Delis\", \"delis\"]]',\n",
       "       '[[\"Sushi Bars\", \"sushi\"], [\"Sandwiches\", \"sandwiches\"], [\"Seafood\", \"seafood\"]]',\n",
       "       '[[\"Sandwiches\", \"sandwiches\"]]',\n",
       "       '[[\"Sandwiches\", \"sandwiches\"], [\"Delis\", \"delis\"]]',\n",
       "       '[[\"Italian\", \"italian\"], [\"Delis\", \"delis\"], [\"Sandwiches\", \"sandwiches\"]]',\n",
       "       '[[\"Bubble Tea\", \"bubbletea\"], [\"Sandwiches\", \"sandwiches\"], [\"Vietnamese\", \"vietnamese\"]]',\n",
       "       '[[\"Sandwiches\", \"sandwiches\"], [\"Caterers\", \"catering\"], [\"Seafood\", \"seafood\"]]',\n",
       "       '[[\"Sandwiches\", \"sandwiches\"], [\"Salad\", \"salad\"], [\"Caterers\", \"catering\"]]',\n",
       "       '[[\"Sandwiches\", \"sandwiches\"], [\"Cheesesteaks\", \"cheesesteaks\"], [\"Burgers\", \"burgers\"]]',\n",
       "       '[[\"Diners\", \"diners\"], [\"Sandwiches\", \"sandwiches\"], [\"Salad\", \"salad\"]]',\n",
       "       '[[\"Sandwiches\", \"sandwiches\"], [\"Burgers\", \"burgers\"]]',\n",
       "       '[[\"Coffee & Tea\", \"coffee\"], [\"Sandwiches\", \"sandwiches\"], [\"Cafes\", \"cafes\"]]',\n",
       "       '[[\"Cafes\", \"cafes\"]]',\n",
       "       '[[\"Cafes\", \"cafes\"], [\"Turkish\", \"turkish\"], [\"Falafel\", \"falafel\"]]',\n",
       "       '[[\"Delis\", \"delis\"], [\"Cafes\", \"cafes\"]]',\n",
       "       '[[\"Bakeries\", \"bakeries\"], [\"Cafes\", \"cafes\"]]',\n",
       "       '[[\"Vegan\", \"vegan\"], [\"Cafes\", \"cafes\"], [\"Sandwiches\", \"sandwiches\"]]',\n",
       "       '[[\"Coffee & Tea\", \"coffee\"], [\"Sandwiches\", \"sandwiches\"], [\"Breakfast & Brunch\", \"breakfast_brunch\"], [\"Cafes\", \"cafes\"]]',\n",
       "       '[[\"Sandwiches\", \"sandwiches\"], [\"Coffee & Tea\", \"coffee\"], [\"Cafes\", \"cafes\"]]',\n",
       "       '[[\"Italian\", \"italian\"], [\"Cafes\", \"cafes\"]]',\n",
       "       '[[\"Indian\", \"indpak\"], [\"Caterers\", \"catering\"]]',\n",
       "       '[[\"Indian\", \"indpak\"], [\"Grocery\", \"grocery\"]]',\n",
       "       '[[\"Indian\", \"indpak\"], [\"Pakistani\", \"pakistani\"]]',\n",
       "       '[[\"Indian\", \"indpak\"], [\"Vegetarian\", \"vegetarian\"], [\"Vegan\", \"vegan\"]]',\n",
       "       '[[\"Indian\", \"indpak\"], [\"Bangladeshi\", \"bangladeshi\"]]',\n",
       "       '[[\"Indian\", \"indpak\"], [\"Vegetarian\", \"vegetarian\"]]',\n",
       "       '[[\"Indian\", \"indpak\"], [\"Himalayan/Nepalese\", \"himalayan\"]]',\n",
       "       '[[\"Pakistani\", \"pakistani\"], [\"Halal\", \"halal\"], [\"Indian\", \"indpak\"]]',\n",
       "       '[[\"Indian\", \"indpak\"], [\"Fast Food\", \"hotdogs\"]]',\n",
       "       '[[\"Japanese\", \"japanese\"], [\"Sushi Bars\", \"sushi\"]]',\n",
       "       '[[\"Sushi Bars\", \"sushi\"], [\"Japanese\", \"japanese\"], [\"Seafood\", \"seafood\"]]',\n",
       "       '[[\"Japanese\", \"japanese\"], [\"Sushi Bars\", \"sushi\"], [\"Hot Pot\", \"hotpot\"]]',\n",
       "       '[[\"Sushi Bars\", \"sushi\"], [\"Japanese\", \"japanese\"]]',\n",
       "       '[[\"Japanese\", \"japanese\"], [\"Sushi Bars\", \"sushi\"], [\"Tapas/Small Plates\", \"tapasmallplates\"]]',\n",
       "       '[[\"American (New)\", \"newamerican\"], [\"Sushi Bars\", \"sushi\"]]',\n",
       "       '[[\"Sushi Bars\", \"sushi\"], [\"Japanese\", \"japanese\"], [\"Bars\", \"bars\"]]',\n",
       "       '[[\"Chinese\", \"chinese\"], [\"Sushi Bars\", \"sushi\"], [\"Hot Pot\", \"hotpot\"]]',\n",
       "       '[[\"Korean\", \"korean\"], [\"Sushi Bars\", \"sushi\"], [\"Japanese\", \"japanese\"]]',\n",
       "       '[[\"Sushi Bars\", \"sushi\"]]',\n",
       "       '[[\"Asian Fusion\", \"asianfusion\"], [\"Sushi Bars\", \"sushi\"], [\"Cocktail Bars\", \"cocktailbars\"]]',\n",
       "       '[[\"Seafood\", \"seafood\"], [\"Japanese\", \"japanese\"]]',\n",
       "       '[[\"Japanese\", \"japanese\"], [\"Chinese\", \"chinese\"]]',\n",
       "       '[[\"Japanese\", \"japanese\"], [\"Korean\", \"korean\"]]',\n",
       "       '[[\"Ramen\", \"ramen\"]]',\n",
       "       '[[\"Korean\", \"korean\"], [\"Asian Fusion\", \"asianfusion\"], [\"Japanese\", \"japanese\"]]',\n",
       "       '[[\"Desserts\", \"desserts\"], [\"Chinese\", \"chinese\"]]',\n",
       "       '[[\"Chinese\", \"chinese\"], [\"Asian Fusion\", \"asianfusion\"]]',\n",
       "       '[[\"Mongolian\", \"mongolian\"], [\"Chinese\", \"chinese\"]]',\n",
       "       '[[\"Chinese\", \"chinese\"]]',\n",
       "       '[[\"Vietnamese\", \"vietnamese\"], [\"Chinese\", \"chinese\"]]',\n",
       "       '[[\"Dim Sum\", \"dimsum\"]]', '[[\"Cantonese\", \"cantonese\"]]',\n",
       "       '[[\"Seafood\", \"seafood\"], [\"Chinese\", \"chinese\"]]',\n",
       "       '[[\"Mexican\", \"mexican\"], [\"Latin American\", \"latin\"]]',\n",
       "       '[[\"Food Trucks\", \"foodtrucks\"], [\"Mexican\", \"mexican\"], [\"Vegan\", \"vegan\"]]',\n",
       "       '[[\"Cocktail Bars\", \"cocktailbars\"], [\"Seafood\", \"seafood\"], [\"Mexican\", \"mexican\"]]',\n",
       "       '[[\"Mexican\", \"mexican\"], [\"Lounges\", \"lounges\"], [\"Cocktail Bars\", \"cocktailbars\"]]',\n",
       "       '[[\"American (New)\", \"newamerican\"], [\"Mexican\", \"mexican\"]]',\n",
       "       '[[\"Mexican\", \"mexican\"], [\"American (New)\", \"newamerican\"]]',\n",
       "       '[[\"Thai\", \"thai\"], [\"Ice Cream & Frozen Yogurt\", \"icecream\"]]',\n",
       "       '[[\"Thai\", \"thai\"]]',\n",
       "       '[[\"Vietnamese\", \"vietnamese\"], [\"Thai\", \"thai\"]]',\n",
       "       '[[\"Thai\", \"thai\"], [\"Vegetarian\", \"vegetarian\"]]',\n",
       "       '[[\"Vietnamese\", \"vietnamese\"], [\"Thai\", \"thai\"], [\"Asian Fusion\", \"asianfusion\"]]',\n",
       "       '[[\"Thai\", \"thai\"], [\"Vegan\", \"vegan\"]]',\n",
       "       '[[\"Delis\", \"delis\"], [\"Pizza\", \"pizza\"]]',\n",
       "       '[[\"Food Trucks\", \"foodtrucks\"], [\"Pizza\", \"pizza\"]]',\n",
       "       '[[\"Pizza\", \"pizza\"], [\"Italian\", \"italian\"]]',\n",
       "       '[[\"Ice Cream & Frozen Yogurt\", \"icecream\"], [\"Pizza\", \"pizza\"], [\"Italian\", \"italian\"]]',\n",
       "       '[[\"Pizza\", \"pizza\"], [\"Salad\", \"salad\"], [\"Italian\", \"italian\"]]',\n",
       "       '[[\"Pizza\", \"pizza\"], [\"Bars\", \"bars\"]]', '[[\"Pizza\", \"pizza\"]]',\n",
       "       '[[\"Pizza\", \"pizza\"], [\"Desserts\", \"desserts\"]]',\n",
       "       '[[\"Pizza\", \"pizza\"], [\"Sandwiches\", \"sandwiches\"]]',\n",
       "       '[[\"Donuts\", \"donuts\"]]',\n",
       "       '[[\"Donuts\", \"donuts\"], [\"Breakfast & Brunch\", \"breakfast_brunch\"], [\"Coffee & Tea\", \"coffee\"]]',\n",
       "       '[[\"Desserts\", \"desserts\"], [\"Donuts\", \"donuts\"], [\"Food Stands\", \"foodstands\"]]',\n",
       "       '[[\"Donuts\", \"donuts\"], [\"Coffee & Tea\", \"coffee\"], [\"Sandwiches\", \"sandwiches\"]]',\n",
       "       '[[\"Bakeries\", \"bakeries\"], [\"Donuts\", \"donuts\"]]',\n",
       "       '[[\"Donuts\", \"donuts\"], [\"Breakfast & Brunch\", \"breakfast_brunch\"]]',\n",
       "       '[[\"Donuts\", \"donuts\"], [\"Delis\", \"delis\"], [\"Pizza\", \"pizza\"]]',\n",
       "       '[[\"Coffee & Tea\", \"coffee\"], [\"Donuts\", \"donuts\"]]',\n",
       "       '[[\"Donuts\", \"donuts\"], [\"Coffee & Tea\", \"coffee\"]]',\n",
       "       '[[\"Bakeries\", \"bakeries\"]]',\n",
       "       '[[\"Bakeries\", \"bakeries\"], [\"Ice Cream & Frozen Yogurt\", \"icecream\"], [\"Food Trucks\", \"foodtrucks\"]]',\n",
       "       '[[\"Mediterranean\", \"mediterranean\"], [\"Bakeries\", \"bakeries\"]]',\n",
       "       '[[\"Desserts\", \"desserts\"], [\"Bakeries\", \"bakeries\"]]',\n",
       "       '[[\"Bakeries\", \"bakeries\"], [\"Ice Cream & Frozen Yogurt\", \"icecream\"]]',\n",
       "       '[[\"Bakeries\", \"bakeries\"], [\"Coffee & Tea\", \"coffee\"], [\"Desserts\", \"desserts\"]]',\n",
       "       '[[\"Bakeries\", \"bakeries\"], [\"Desserts\", \"desserts\"], [\"Cupcakes\", \"cupcakes\"]]',\n",
       "       '[[\"Bakeries\", \"bakeries\"], [\"Sandwiches\", \"sandwiches\"]]',\n",
       "       '[[\"Greek\", \"greek\"], [\"Bakeries\", \"bakeries\"], [\"Coffee & Tea\", \"coffee\"]]',\n",
       "       '[[\"Italian\", \"italian\"], [\"Bars\", \"bars\"]]',\n",
       "       '[[\"Italian\", \"italian\"], [\"Tapas/Small Plates\", \"tapasmallplates\"], [\"Breakfast & Brunch\", \"breakfast_brunch\"]]',\n",
       "       '[[\"Italian\", \"italian\"], [\"Breakfast & Brunch\", \"breakfast_brunch\"]]',\n",
       "       '[[\"Italian\", \"italian\"], [\"Wine Bars\", \"wine_bars\"]]',\n",
       "       '[[\"Italian\", \"italian\"], [\"Salad\", \"salad\"], [\"Sandwiches\", \"sandwiches\"]]',\n",
       "       '[[\"Italian\", \"italian\"], [\"Bakeries\", \"bakeries\"]]',\n",
       "       '[[\"Vietnamese\", \"vietnamese\"], [\"Sandwiches\", \"sandwiches\"]]',\n",
       "       '[[\"Vietnamese\", \"vietnamese\"]]',\n",
       "       '[[\"Food Trucks\", \"foodtrucks\"], [\"Vietnamese\", \"vietnamese\"]]',\n",
       "       '[[\"Delis\", \"delis\"], [\"Vietnamese\", \"vietnamese\"], [\"Sandwiches\", \"sandwiches\"]]',\n",
       "       '[[\"Vietnamese\", \"vietnamese\"], [\"Food Trucks\", \"foodtrucks\"]]',\n",
       "       '[[\"Vietnamese\", \"vietnamese\"], [\"Food Trucks\", \"foodtrucks\"], [\"Asian Fusion\", \"asianfusion\"]]',\n",
       "       '[[\"Ethnic Food\", \"ethnicmarkets\"], [\"Bakeries\", \"bakeries\"]]',\n",
       "       '[[\"Ethnic Food\", \"ethnicmarkets\"]]',\n",
       "       '[[\"Greek\", \"greek\"], [\"Ethnic Food\", \"ethnicmarkets\"], [\"Grocery\", \"grocery\"]]',\n",
       "       '[[\"Ethnic Food\", \"ethnicmarkets\"], [\"Bakeries\", \"bakeries\"], [\"Armenian\", \"armenian\"]]',\n",
       "       '[[\"Grocery\", \"grocery\"], [\"Ethnic Food\", \"ethnicmarkets\"]]',\n",
       "       '[[\"Ethnic Food\", \"ethnicmarkets\"], [\"Delis\", \"delis\"]]',\n",
       "       '[[\"Ethnic Food\", \"ethnicmarkets\"], [\"Grocery\", \"grocery\"]]',\n",
       "       '[[\"Mexican\", \"mexican\"], [\"Ethnic Food\", \"ethnicmarkets\"]]',\n",
       "       '[[\"Delis\", \"delis\"], [\"Ethnic Food\", \"ethnicmarkets\"]]',\n",
       "       '[[\"Bakeries\", \"bakeries\"], [\"Ethnic Food\", \"ethnicmarkets\"], [\"Middle Eastern\", \"mideastern\"]]',\n",
       "       '[[\"Polish\", \"polish\"], [\"Ukrainian\", \"ukrainian\"], [\"Ethnic Food\", \"ethnicmarkets\"]]',\n",
       "       '[[\"Ethnic Food\", \"ethnicmarkets\"], [\"Korean\", \"korean\"]]',\n",
       "       '[[\"Mediterranean\", \"mediterranean\"], [\"Middle Eastern\", \"mideastern\"], [\"Ethnic Food\", \"ethnicmarkets\"]]',\n",
       "       '[[\"Japanese\", \"japanese\"], [\"Ethnic Food\", \"ethnicmarkets\"], [\"Shopping\", \"shopping\"]]',\n",
       "       '[[\"Bakeries\", \"bakeries\"], [\"Coffee & Tea\", \"coffee\"], [\"Ethnic Food\", \"ethnicmarkets\"]]'],\n",
       "      dtype=object)"
      ]
     },
     "execution_count": 5,
     "metadata": {},
     "output_type": "execute_result"
    }
   ],
   "source": [
    "data['categories'].unique()"
   ]
  },
  {
   "cell_type": "code",
   "execution_count": 55,
   "id": "b2405265-64a7-44ba-81b4-913e1383741a",
   "metadata": {},
   "outputs": [
    {
     "data": {
      "text/plain": [
       "'{\"city\": \"Cambridge\", \"display_address\": [\"University Hall\", \"1815 Massachusetts Ave\", \"Porter Square\", \"Cambridge, MA 02140\"], \"geo_accuracy\": 9.5, \"neighborhoods\": [\"Porter Square\"], \"postal_code\": \"02140\", \"country_code\": \"US\", \"address\": [\"University Hall\", \"1815 Massachusetts Ave\"], \"coordinate\": {\"latitude\": 42.3871916506057, \"longitude\": -71.1187779364014}, \"state_code\": \"MA\"}'"
      ]
     },
     "execution_count": 55,
     "metadata": {},
     "output_type": "execute_result"
    }
   ],
   "source": [
    "data['location'][339]"
   ]
  },
  {
   "cell_type": "code",
   "execution_count": 53,
   "id": "fe2f7b22-779d-4c2f-a8f5-78d60659b2b3",
   "metadata": {},
   "outputs": [
    {
     "name": "stdout",
     "output_type": "stream",
     "text": [
      "Found!\n"
     ]
    }
   ],
   "source": [
    "if \"Boston\" in data['location'][0]:\n",
    "    print(\"Found!\")"
   ]
  },
  {
   "cell_type": "code",
   "execution_count": 76,
   "id": "9c65e2e6-33b7-460b-8d06-74b7ebfc3157",
   "metadata": {},
   "outputs": [],
   "source": [
    "import re\n",
    "\n",
    "boston = [];\n",
    "for x in data['location']:\n",
    "    if \"Boston\" in x:\n",
    "        boston.append(x)"
   ]
  },
  {
   "cell_type": "code",
   "execution_count": 84,
   "id": "90ddbace-27ba-44e9-903d-412e3a0e5a65",
   "metadata": {},
   "outputs": [],
   "source": [
    "data = data.loc[data['location'].isin(boston)]\n",
    "data.to_csv(\"boston_clean\", index=False)"
   ]
  },
  {
   "cell_type": "code",
   "execution_count": null,
   "id": "4a5ff410-543f-4416-bd73-3a31b6d3e69c",
   "metadata": {},
   "outputs": [],
   "source": []
  }
 ],
 "metadata": {
  "kernelspec": {
   "display_name": "Python 3 (ipykernel)",
   "language": "python",
   "name": "python3"
  },
  "language_info": {
   "codemirror_mode": {
    "name": "ipython",
    "version": 3
   },
   "file_extension": ".py",
   "mimetype": "text/x-python",
   "name": "python",
   "nbconvert_exporter": "python",
   "pygments_lexer": "ipython3",
   "version": "3.9.12"
  }
 },
 "nbformat": 4,
 "nbformat_minor": 5
}
